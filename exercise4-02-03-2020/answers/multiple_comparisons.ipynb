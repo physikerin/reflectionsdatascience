{
 "cells": [
  {
   "cell_type": "code",
   "execution_count": 14,
   "metadata": {},
   "outputs": [],
   "source": [
    "import numpy as np\n",
    "import pandas as pd\n",
    "import scipy.stats as stats\n",
    "import matplotlib.pyplot as plt"
   ]
  },
  {
   "cell_type": "markdown",
   "metadata": {},
   "source": [
    "<h1>P-Hacking and Multiple Comparisons Bias</h1>\n",
    "\n",
    "Multiple comparisons bias is a pervasive problem in statistics, data science, and in general forecasting/predictions. The short explanation is that the more tests you run, the more likely you are to get an outcome that you want/expect. If you ignore the multitude of tests that failed, you are clearly setting yourself up for failure by misinterpreting what's going on in your data.\n",
    "\n",
    "A particularly common example of this is when looking for relationships in large data sets comprising of many independent series or variables. In this case you run a test each time you evaluate whether a relationship exists between a set of variables."
   ]
  },
  {
   "cell_type": "markdown",
   "metadata": {},
   "source": [
    "<b>p-value Refresher</b>\n",
    "\n",
    "What's important to remember is they're used to test a hypothesis given some data. Here we are testing the hypothesis that a relationship exists between two series given the series values.\n",
    "\n",
    "<b>IMPORTANT: p-values must be treated as binary.</b>\n",
    "\n",
    "A common mistake is that p-values are treated as more or less significant. This is bad practice as it allows for what's known as p-hacking and will result in more false positives than you expect. Effectively, you will be too likely to convince yourself that relationships exist in your data.\n",
    "\n",
    "To treat p-values as binary, a cutoff must be set in advance. Then the p-value must be compared with the cutoff and treated as significant/not signficant. Here we'll show this.\n",
    "\n",
    "<b>The Cutoff is our Significance Level</b>\n",
    "\n",
    "We can refer to the cutoff as our significance level because a lower cutoff means that results which pass it are significant at a higher level of confidence. So if you have a cutoff of 0.05, then even on random data 5% of tests will pass based on chance. A cutoff of 0.01 reduces this to 1%, which is a more stringent test. We can therefore have more confidence in our results."
   ]
  },
  {
   "cell_type": "markdown",
   "metadata": {},
   "source": [
    "<h1>Experiment</h1>\n",
    "\n",
    "We'll start by defining a data frame.\n",
    "\n",
    "Now we'll populate it by adding N randomly generated timeseries of length T."
   ]
  },
  {
   "cell_type": "code",
   "execution_count": 15,
   "metadata": {},
   "outputs": [],
   "source": [
    "df = pd.DataFrame()\n",
    "\n",
    "N = 20\n",
    "T = 100\n",
    "\n",
    "for i in range(N):\n",
    "    X = np.random.normal(0, 1, T)\n",
    "    X = pd.Series(X)\n",
    "    name = 'X%s' % i\n",
    "    df[name] = X"
   ]
  },
  {
   "cell_type": "code",
   "execution_count": 16,
   "metadata": {},
   "outputs": [
    {
     "data": {
      "text/html": [
       "<div>\n",
       "<style scoped>\n",
       "    .dataframe tbody tr th:only-of-type {\n",
       "        vertical-align: middle;\n",
       "    }\n",
       "\n",
       "    .dataframe tbody tr th {\n",
       "        vertical-align: top;\n",
       "    }\n",
       "\n",
       "    .dataframe thead th {\n",
       "        text-align: right;\n",
       "    }\n",
       "</style>\n",
       "<table border=\"1\" class=\"dataframe\">\n",
       "  <thead>\n",
       "    <tr style=\"text-align: right;\">\n",
       "      <th></th>\n",
       "      <th>X0</th>\n",
       "      <th>X1</th>\n",
       "      <th>X2</th>\n",
       "      <th>X3</th>\n",
       "      <th>X4</th>\n",
       "      <th>X5</th>\n",
       "      <th>X6</th>\n",
       "      <th>X7</th>\n",
       "      <th>X8</th>\n",
       "      <th>X9</th>\n",
       "      <th>X10</th>\n",
       "      <th>X11</th>\n",
       "      <th>X12</th>\n",
       "      <th>X13</th>\n",
       "      <th>X14</th>\n",
       "      <th>X15</th>\n",
       "      <th>X16</th>\n",
       "      <th>X17</th>\n",
       "      <th>X18</th>\n",
       "      <th>X19</th>\n",
       "    </tr>\n",
       "  </thead>\n",
       "  <tbody>\n",
       "    <tr>\n",
       "      <td>0</td>\n",
       "      <td>-1.157545</td>\n",
       "      <td>0.217650</td>\n",
       "      <td>-0.487553</td>\n",
       "      <td>1.344448</td>\n",
       "      <td>-2.009075</td>\n",
       "      <td>1.092928</td>\n",
       "      <td>0.155961</td>\n",
       "      <td>-1.325107</td>\n",
       "      <td>-1.238828</td>\n",
       "      <td>1.561380</td>\n",
       "      <td>1.623986</td>\n",
       "      <td>0.316321</td>\n",
       "      <td>0.713577</td>\n",
       "      <td>0.437509</td>\n",
       "      <td>0.293318</td>\n",
       "      <td>-0.256918</td>\n",
       "      <td>-1.299826</td>\n",
       "      <td>-1.631006</td>\n",
       "      <td>0.134329</td>\n",
       "      <td>0.388102</td>\n",
       "    </tr>\n",
       "    <tr>\n",
       "      <td>1</td>\n",
       "      <td>-0.092161</td>\n",
       "      <td>-0.806779</td>\n",
       "      <td>1.183139</td>\n",
       "      <td>-1.349903</td>\n",
       "      <td>-0.157429</td>\n",
       "      <td>0.490630</td>\n",
       "      <td>0.452585</td>\n",
       "      <td>-0.938230</td>\n",
       "      <td>-0.450442</td>\n",
       "      <td>0.254143</td>\n",
       "      <td>0.146844</td>\n",
       "      <td>1.083169</td>\n",
       "      <td>1.624494</td>\n",
       "      <td>0.923844</td>\n",
       "      <td>-0.771686</td>\n",
       "      <td>-0.708598</td>\n",
       "      <td>-0.016783</td>\n",
       "      <td>0.313369</td>\n",
       "      <td>0.972628</td>\n",
       "      <td>-0.055031</td>\n",
       "    </tr>\n",
       "    <tr>\n",
       "      <td>2</td>\n",
       "      <td>0.613429</td>\n",
       "      <td>0.288562</td>\n",
       "      <td>-0.079869</td>\n",
       "      <td>-0.389494</td>\n",
       "      <td>0.813679</td>\n",
       "      <td>-1.375571</td>\n",
       "      <td>-0.622807</td>\n",
       "      <td>-0.047088</td>\n",
       "      <td>-0.336790</td>\n",
       "      <td>-0.699341</td>\n",
       "      <td>0.576308</td>\n",
       "      <td>-2.337123</td>\n",
       "      <td>1.833127</td>\n",
       "      <td>0.254541</td>\n",
       "      <td>1.521454</td>\n",
       "      <td>1.681146</td>\n",
       "      <td>-1.166254</td>\n",
       "      <td>0.160922</td>\n",
       "      <td>0.711197</td>\n",
       "      <td>0.270805</td>\n",
       "    </tr>\n",
       "    <tr>\n",
       "      <td>3</td>\n",
       "      <td>-2.073863</td>\n",
       "      <td>1.003961</td>\n",
       "      <td>1.800479</td>\n",
       "      <td>-0.609792</td>\n",
       "      <td>0.790200</td>\n",
       "      <td>-1.190367</td>\n",
       "      <td>-1.358540</td>\n",
       "      <td>-1.236551</td>\n",
       "      <td>-0.266958</td>\n",
       "      <td>-0.482363</td>\n",
       "      <td>-0.926294</td>\n",
       "      <td>0.055958</td>\n",
       "      <td>0.879854</td>\n",
       "      <td>-0.263029</td>\n",
       "      <td>0.856231</td>\n",
       "      <td>1.488503</td>\n",
       "      <td>-0.758188</td>\n",
       "      <td>0.670018</td>\n",
       "      <td>1.418700</td>\n",
       "      <td>-0.196182</td>\n",
       "    </tr>\n",
       "    <tr>\n",
       "      <td>4</td>\n",
       "      <td>0.184200</td>\n",
       "      <td>-1.298369</td>\n",
       "      <td>-0.177939</td>\n",
       "      <td>-0.851995</td>\n",
       "      <td>-0.320657</td>\n",
       "      <td>0.035319</td>\n",
       "      <td>-1.268358</td>\n",
       "      <td>-0.226039</td>\n",
       "      <td>-0.299701</td>\n",
       "      <td>0.319908</td>\n",
       "      <td>-0.005973</td>\n",
       "      <td>1.754539</td>\n",
       "      <td>0.912685</td>\n",
       "      <td>-0.969487</td>\n",
       "      <td>-1.261910</td>\n",
       "      <td>-0.114005</td>\n",
       "      <td>0.409473</td>\n",
       "      <td>0.369395</td>\n",
       "      <td>1.042325</td>\n",
       "      <td>-0.654462</td>\n",
       "    </tr>\n",
       "  </tbody>\n",
       "</table>\n",
       "</div>"
      ],
      "text/plain": [
       "         X0        X1        X2        X3        X4        X5        X6  \\\n",
       "0 -1.157545  0.217650 -0.487553  1.344448 -2.009075  1.092928  0.155961   \n",
       "1 -0.092161 -0.806779  1.183139 -1.349903 -0.157429  0.490630  0.452585   \n",
       "2  0.613429  0.288562 -0.079869 -0.389494  0.813679 -1.375571 -0.622807   \n",
       "3 -2.073863  1.003961  1.800479 -0.609792  0.790200 -1.190367 -1.358540   \n",
       "4  0.184200 -1.298369 -0.177939 -0.851995 -0.320657  0.035319 -1.268358   \n",
       "\n",
       "         X7        X8        X9       X10       X11       X12       X13  \\\n",
       "0 -1.325107 -1.238828  1.561380  1.623986  0.316321  0.713577  0.437509   \n",
       "1 -0.938230 -0.450442  0.254143  0.146844  1.083169  1.624494  0.923844   \n",
       "2 -0.047088 -0.336790 -0.699341  0.576308 -2.337123  1.833127  0.254541   \n",
       "3 -1.236551 -0.266958 -0.482363 -0.926294  0.055958  0.879854 -0.263029   \n",
       "4 -0.226039 -0.299701  0.319908 -0.005973  1.754539  0.912685 -0.969487   \n",
       "\n",
       "        X14       X15       X16       X17       X18       X19  \n",
       "0  0.293318 -0.256918 -1.299826 -1.631006  0.134329  0.388102  \n",
       "1 -0.771686 -0.708598 -0.016783  0.313369  0.972628 -0.055031  \n",
       "2  1.521454  1.681146 -1.166254  0.160922  0.711197  0.270805  \n",
       "3  0.856231  1.488503 -0.758188  0.670018  1.418700 -0.196182  \n",
       "4 -1.261910 -0.114005  0.409473  0.369395  1.042325 -0.654462  "
      ]
     },
     "execution_count": 16,
     "metadata": {},
     "output_type": "execute_result"
    }
   ],
   "source": [
    "df.head()"
   ]
  },
  {
   "cell_type": "markdown",
   "metadata": {},
   "source": [
    "Before we check how many significant results we got, let's run out some math to check how many we'd expect. The formula for the number of pairs given N series is\n",
    "\n",
    "$$\\frac{N(N−1)}{2}$$\n",
    " \n",
    "There are no relationships in our data as it's all randomly generated. If our test is properly calibrated we should expect a false positive rate of 5% given our 5% cutoff. Therefore we should expect the following number of pairs that achieved significance based on pure random chance."
   ]
  },
  {
   "cell_type": "code",
   "execution_count": 17,
   "metadata": {},
   "outputs": [
    {
     "name": "stdout",
     "output_type": "stream",
     "text": [
      "Total number of combinations: 190.0\n",
      "Expected number of significant combinations: 9.5\n"
     ]
    }
   ],
   "source": [
    "print('Total number of combinations: {}'.format((N * (N-1) / 2)))\n",
    "print('Expected number of significant combinations: {}'.format((N * (N-1) / 2) * 0.05))\n"
   ]
  },
  {
   "cell_type": "markdown",
   "metadata": {},
   "source": [
    "<h1>Experiment - Running Many Tests</h1>\n",
    "\n",
    "Use Spearman Rank Correlation to evaluate the relationship between the pairs of variables. Run it 100 times and report the average number of significant pairs.\n",
    "\n",
    "Spearman Rank Correlation is a variation of correlation that takes into account the ranks of the data. This can help with weird distributions or outliers that would confuse other measures. The test also returns a p-value, which is key here. A higher coefficient means a stronger estimated relationship."
   ]
  },
  {
   "cell_type": "code",
   "execution_count": 18,
   "metadata": {},
   "outputs": [],
   "source": [
    "def do_experiment(N, T, cutoff=0.05):\n",
    "    df = pd.DataFrame()\n",
    "\n",
    "    # Make random data\n",
    "    for i in range(N):\n",
    "        X = np.random.normal(0, 1, T)\n",
    "        X = pd.Series(X)\n",
    "        name = 'X%s' % i\n",
    "        df[name] = X\n",
    "\n",
    "    significant_pairs = []\n",
    "\n",
    "    # Look for relationships\n",
    "    for i in range(N):\n",
    "        for j in range(i+1, N):\n",
    "            Xi = df.iloc[:, i]\n",
    "            Xj = df.iloc[:, j]\n",
    "\n",
    "            results = stats.spearmanr(Xi, Xj)\n",
    "\n",
    "            pvalue = results[1]\n",
    "\n",
    "            if pvalue < cutoff:\n",
    "                significant_pairs.append((i, j))\n",
    "    \n",
    "    return significant_pairs\n",
    "\n",
    "\n",
    "num_experiments = 100\n",
    "\n",
    "results = np.zeros((num_experiments,))\n",
    "\n",
    "for i in range(num_experiments):\n",
    "    # Run a single experiment\n",
    "    result = do_experiment(20, 100, cutoff=0.05)\n",
    "    \n",
    "    # Count how many pairs\n",
    "    n = len(result)\n",
    "    \n",
    "    # Add to array\n",
    "    results[i] = n"
   ]
  },
  {
   "cell_type": "code",
   "execution_count": 19,
   "metadata": {},
   "outputs": [
    {
     "name": "stdout",
     "output_type": "stream",
     "text": [
      "Number of significant combinations in the experiment 9.88\n"
     ]
    }
   ],
   "source": [
    "print('Number of significant combinations in the experiment {}'.format(np.mean(results)))"
   ]
  },
  {
   "cell_type": "markdown",
   "metadata": {},
   "source": [
    "<h1> Run it again and visualize the data as a histogram</h1>\n",
    "\n",
    "Draw lines in the cutoffs 0.01 and 0.05 (x axis)."
   ]
  },
  {
   "cell_type": "code",
   "execution_count": 20,
   "metadata": {},
   "outputs": [],
   "source": [
    "def get_pvalues_from_experiment(N, T):\n",
    "    df = pd.DataFrame()\n",
    "\n",
    "    # Make random data\n",
    "    for i in range(N):\n",
    "        X = np.random.normal(0, 1, T)\n",
    "        X = pd.Series(X)\n",
    "        name = 'X%s' % i\n",
    "        df[name] = X\n",
    "\n",
    "    pvalues = []\n",
    "\n",
    "    # Look for relationships\n",
    "    for i in range(N):\n",
    "        for j in range(i+1, N):\n",
    "            Xi = df.iloc[:, i]\n",
    "            Xj = df.iloc[:, j]\n",
    "\n",
    "            results = stats.spearmanr(Xi, Xj)\n",
    "\n",
    "            pvalue = results[1]\n",
    "\n",
    "            pvalues.append(pvalue)\n",
    "    \n",
    "    return pvalues"
   ]
  },
  {
   "cell_type": "code",
   "execution_count": 26,
   "metadata": {},
   "outputs": [
    {
     "data": {
      "image/png": "[encoded data removed]",
      "text/plain": [
       "<Figure size 432x288 with 1 Axes>"
      ]
     },
     "metadata": {
      "needs_background": "light"
     },
     "output_type": "display_data"
    }
   ],
   "source": [
    "pvalues = get_pvalues_from_experiment(10, 100)\n",
    "    \n",
    "plt.vlines(0.01, 0, 10, colors='r', linestyle='--', label='0.01 Cutoff')\n",
    "plt.vlines(0.05, 0, 10, colors='r', label='0.05 Cutoff')\n",
    "plt.hist(pvalues, label='P-Value Distribution')\n",
    "plt.legend()\n",
    "plt.ylabel('Frequency')\n",
    "plt.title('Observed p-value');"
   ]
  },
  {
   "cell_type": "markdown",
   "metadata": {},
   "source": [
    "<h1>Increase the number of timeseries and run the experiment again</h1>"
   ]
  },
  {
   "cell_type": "code",
   "execution_count": 24,
   "metadata": {},
   "outputs": [
    {
     "data": {
      "image/png": "[encoded data removed]",
      "text/plain": [
       "<Figure size 432x288 with 1 Axes>"
      ]
     },
     "metadata": {
      "needs_background": "light"
     },
     "output_type": "display_data"
    }
   ],
   "source": [
    "pvalues = get_pvalues_from_experiment(50, 100)\n",
    "plt.vlines(0.01, 0, 150, colors='r', linestyle='--', label='0.01 Cutoff')\n",
    "plt.vlines(0.05, 0, 150, colors='r', label='0.05 Cutoff')\n",
    "plt.hist(pvalues, label='P-Value Distribution')\n",
    "plt.legend()\n",
    "plt.ylabel('Frequency')\n",
    "plt.title('Observed p-value');"
   ]
  },
  {
   "cell_type": "markdown",
   "metadata": {},
   "source": [
    "<h1>What can you conclude with this experiment?</h1>"
   ]
  },
  {
   "cell_type": "markdown",
   "metadata": {},
   "source": [
    "<h1>Reducing Multiple Comparisons Bias</h1>\n",
    "\n",
    "You can't really eliminate multiple comparisons bias, but you can reduce how much it impacts you. To do so we have two options.\n",
    "\n",
    "<b>Option 1: Run fewer tests.</b>\n",
    "\n",
    "<b>Option 2: Bonferroni Correction</b>"
   ]
  },
  {
   "cell_type": "markdown",
   "metadata": {},
   "source": [
    "<h1>Run the experiment again with Bonferroni Correction </h1>\n",
    "\n",
    "https://en.wikipedia.org/wiki/Bonferroni_correction\n",
    "\n",
    "The concept behind Bonferroni is quite simple. It just says that if we run  m  tests, and we have a significance level/cutoff of  a , then we should use  a/m  as our new cutoff when determining significance. The math works out because of the following.\n",
    "\n",
    "Let's say we run  m  tests. We should expect to see  ma  false positives based on random chance that pass out cutoff. If we instead use  a/m  as our cutoff, then we should expect to see  ma/m=a  tests that pass our cutoff. Therefore we are back to our desired false positive rate of  a .\n",
    "\n",
    "Let's try it on our experiment above."
   ]
  },
  {
   "cell_type": "code",
   "execution_count": 23,
   "metadata": {},
   "outputs": [
    {
     "name": "stdout",
     "output_type": "stream",
     "text": [
      "New cutoff: 0.0002631578947368421\n"
     ]
    },
    {
     "data": {
      "text/plain": [
       "0.09"
      ]
     },
     "execution_count": 23,
     "metadata": {},
     "output_type": "execute_result"
    }
   ],
   "source": [
    "num_experiments = 100\n",
    "\n",
    "results = np.zeros((num_experiments,))\n",
    "\n",
    "N = 20\n",
    "\n",
    "T = 100\n",
    "\n",
    "desired_level = 0.05\n",
    "\n",
    "num_tests = N * (N - 1) / 2\n",
    "\n",
    "new_cutoff = desired_level / num_tests\n",
    "\n",
    "print('New cutoff: {}'.format(new_cutoff))\n",
    "\n",
    "for i in range(num_experiments):\n",
    "    # Run a single experiment\n",
    "    result = do_experiment(20, 100, cutoff=new_cutoff)\n",
    "    \n",
    "    # Count how many pairs\n",
    "    n = len(result)\n",
    "    \n",
    "    # Add to array\n",
    "    results[i] = n\n",
    "    \n",
    "np.mean(results)"
   ]
  },
  {
   "cell_type": "code",
   "execution_count": null,
   "metadata": {},
   "outputs": [],
   "source": []
  },
  {
   "cell_type": "code",
   "execution_count": null,
   "metadata": {},
   "outputs": [],
   "source": []
  }
 ],
 "metadata": {
  "kernelspec": {
   "display_name": "Python 3",
   "language": "python",
   "name": "python3"
  },
  "language_info": {
   "codemirror_mode": {
    "name": "ipython",
    "version": 3
   },
   "file_extension": ".py",
   "mimetype": "text/x-python",
   "name": "python",
   "nbconvert_exporter": "python",
   "pygments_lexer": "ipython3",
   "version": "3.7.4"
  }
 },
 "nbformat": 4,
 "nbformat_minor": 2
}
