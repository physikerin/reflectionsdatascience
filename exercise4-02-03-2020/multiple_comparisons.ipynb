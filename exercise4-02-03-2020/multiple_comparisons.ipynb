{
 "cells": [
  {
   "cell_type": "code",
   "execution_count": 1,
   "metadata": {},
   "outputs": [],
   "source": [
    "import numpy as np\n",
    "import pandas as pd\n",
    "import scipy.stats as stats\n",
    "import matplotlib.pyplot as plt"
   ]
  },
  {
   "cell_type": "markdown",
   "metadata": {},
   "source": [
    "<h1>P-Hacking and Multiple Comparisons Bias</h1>\n",
    "\n",
    "Multiple comparisons bias is a pervasive problem in statistics, data science, and in general forecasting/predictions. The short explanation is that the more tests you run, the more likely you are to get an outcome that you want/expect. If you ignore the multitude of tests that failed, you are clearly setting yourself up for failure by misinterpreting what's going on in your data.\n",
    "\n",
    "A particularly common example of this is when looking for relationships in large data sets comprising of many independent series or variables. In this case you run a test each time you evaluate whether a relationship exists between a set of variables."
   ]
  },
  {
   "cell_type": "markdown",
   "metadata": {},
   "source": [
    "<b>p-value Refresher</b>\n",
    "\n",
    "What's important to remember is they're used to test a hypothesis given some data. Here we are testing the hypothesis that a relationship exists between two series given the series values.\n",
    "\n",
    "<b>IMPORTANT: p-values must be treated as binary.</b>\n",
    "\n",
    "A common mistake is that p-values are treated as more or less significant. This is bad practice as it allows for what's known as p-hacking and will result in more false positives than you expect. Effectively, you will be too likely to convince yourself that relationships exist in your data.\n",
    "\n",
    "To treat p-values as binary, a cutoff must be set in advance. Then the p-value must be compared with the cutoff and treated as significant/not signficant. Here we'll show this.\n",
    "\n",
    "<b>The Cutoff is our Significance Level</b>\n",
    "\n",
    "We can refer to the cutoff as our significance level because a lower cutoff means that results which pass it are significant at a higher level of confidence. So if you have a cutoff of 0.05, then even on random data 5% of tests will pass based on chance. A cutoff of 0.01 reduces this to 1%, which is a more stringent test. We can therefore have more confidence in our results."
   ]
  },
  {
   "cell_type": "markdown",
   "metadata": {},
   "source": [
    "<h1>Experiment</h1>\n",
    "\n",
    "We'll start by defining a data frame.\n",
    "\n",
    "Now we'll populate it by adding N randomly generated timeseries of length T."
   ]
  },
  {
   "cell_type": "code",
   "execution_count": 2,
   "metadata": {},
   "outputs": [],
   "source": [
    "df = pd.DataFrame()\n",
    "\n",
    "N = 20\n",
    "T = 100\n",
    "\n",
    "for i in range(N):\n",
    "    X = np.random.normal(0, 1, T)\n",
    "    X = pd.Series(X)\n",
    "    name = 'X%s' % i\n",
    "    df[name] = X"
   ]
  },
  {
   "cell_type": "code",
   "execution_count": 3,
   "metadata": {},
   "outputs": [
    {
     "data": {
      "text/html": [
       "<div>\n",
       "<style scoped>\n",
       "    .dataframe tbody tr th:only-of-type {\n",
       "        vertical-align: middle;\n",
       "    }\n",
       "\n",
       "    .dataframe tbody tr th {\n",
       "        vertical-align: top;\n",
       "    }\n",
       "\n",
       "    .dataframe thead th {\n",
       "        text-align: right;\n",
       "    }\n",
       "</style>\n",
       "<table border=\"1\" class=\"dataframe\">\n",
       "  <thead>\n",
       "    <tr style=\"text-align: right;\">\n",
       "      <th></th>\n",
       "      <th>X0</th>\n",
       "      <th>X1</th>\n",
       "      <th>X2</th>\n",
       "      <th>X3</th>\n",
       "      <th>X4</th>\n",
       "      <th>X5</th>\n",
       "      <th>X6</th>\n",
       "      <th>X7</th>\n",
       "      <th>X8</th>\n",
       "      <th>X9</th>\n",
       "      <th>X10</th>\n",
       "      <th>X11</th>\n",
       "      <th>X12</th>\n",
       "      <th>X13</th>\n",
       "      <th>X14</th>\n",
       "      <th>X15</th>\n",
       "      <th>X16</th>\n",
       "      <th>X17</th>\n",
       "      <th>X18</th>\n",
       "      <th>X19</th>\n",
       "    </tr>\n",
       "  </thead>\n",
       "  <tbody>\n",
       "    <tr>\n",
       "      <td>0</td>\n",
       "      <td>1.413906</td>\n",
       "      <td>-0.323798</td>\n",
       "      <td>-1.295361</td>\n",
       "      <td>1.341572</td>\n",
       "      <td>-1.256528</td>\n",
       "      <td>-0.649136</td>\n",
       "      <td>0.722056</td>\n",
       "      <td>-0.396289</td>\n",
       "      <td>2.504860</td>\n",
       "      <td>-0.736986</td>\n",
       "      <td>2.938516</td>\n",
       "      <td>0.417214</td>\n",
       "      <td>0.963820</td>\n",
       "      <td>0.089137</td>\n",
       "      <td>-2.134278</td>\n",
       "      <td>0.249169</td>\n",
       "      <td>0.264261</td>\n",
       "      <td>-0.375090</td>\n",
       "      <td>-0.375058</td>\n",
       "      <td>0.450061</td>\n",
       "    </tr>\n",
       "    <tr>\n",
       "      <td>1</td>\n",
       "      <td>-0.331968</td>\n",
       "      <td>0.177424</td>\n",
       "      <td>0.870572</td>\n",
       "      <td>-0.024689</td>\n",
       "      <td>1.083116</td>\n",
       "      <td>0.124674</td>\n",
       "      <td>1.437415</td>\n",
       "      <td>-1.648218</td>\n",
       "      <td>1.401452</td>\n",
       "      <td>-1.316832</td>\n",
       "      <td>-0.179760</td>\n",
       "      <td>1.100040</td>\n",
       "      <td>-1.069630</td>\n",
       "      <td>-0.380342</td>\n",
       "      <td>-0.034688</td>\n",
       "      <td>-1.205876</td>\n",
       "      <td>0.480328</td>\n",
       "      <td>0.969791</td>\n",
       "      <td>1.195862</td>\n",
       "      <td>-0.173823</td>\n",
       "    </tr>\n",
       "    <tr>\n",
       "      <td>2</td>\n",
       "      <td>0.751059</td>\n",
       "      <td>0.440441</td>\n",
       "      <td>-0.456740</td>\n",
       "      <td>-0.821677</td>\n",
       "      <td>1.388364</td>\n",
       "      <td>0.799007</td>\n",
       "      <td>-0.078635</td>\n",
       "      <td>-1.818262</td>\n",
       "      <td>0.700646</td>\n",
       "      <td>0.009169</td>\n",
       "      <td>-1.095863</td>\n",
       "      <td>-1.390747</td>\n",
       "      <td>-0.596436</td>\n",
       "      <td>0.273973</td>\n",
       "      <td>-0.521854</td>\n",
       "      <td>-1.297937</td>\n",
       "      <td>0.657046</td>\n",
       "      <td>-1.359455</td>\n",
       "      <td>-1.236116</td>\n",
       "      <td>0.045265</td>\n",
       "    </tr>\n",
       "    <tr>\n",
       "      <td>3</td>\n",
       "      <td>1.264794</td>\n",
       "      <td>0.074138</td>\n",
       "      <td>0.714124</td>\n",
       "      <td>-1.978385</td>\n",
       "      <td>-0.554169</td>\n",
       "      <td>0.968150</td>\n",
       "      <td>1.096083</td>\n",
       "      <td>-0.676375</td>\n",
       "      <td>-0.649699</td>\n",
       "      <td>1.125176</td>\n",
       "      <td>0.852348</td>\n",
       "      <td>0.575840</td>\n",
       "      <td>-0.902550</td>\n",
       "      <td>-1.447900</td>\n",
       "      <td>0.752670</td>\n",
       "      <td>-0.053308</td>\n",
       "      <td>0.771450</td>\n",
       "      <td>0.197808</td>\n",
       "      <td>2.551308</td>\n",
       "      <td>-0.097992</td>\n",
       "    </tr>\n",
       "    <tr>\n",
       "      <td>4</td>\n",
       "      <td>-0.309942</td>\n",
       "      <td>-1.523519</td>\n",
       "      <td>-0.087799</td>\n",
       "      <td>-1.231231</td>\n",
       "      <td>-0.445806</td>\n",
       "      <td>0.039958</td>\n",
       "      <td>-2.220166</td>\n",
       "      <td>1.183873</td>\n",
       "      <td>1.527586</td>\n",
       "      <td>-0.157180</td>\n",
       "      <td>0.212755</td>\n",
       "      <td>1.243959</td>\n",
       "      <td>-0.647194</td>\n",
       "      <td>0.592592</td>\n",
       "      <td>0.127682</td>\n",
       "      <td>0.358640</td>\n",
       "      <td>-0.865317</td>\n",
       "      <td>-1.550470</td>\n",
       "      <td>-0.616804</td>\n",
       "      <td>1.753407</td>\n",
       "    </tr>\n",
       "  </tbody>\n",
       "</table>\n",
       "</div>"
      ],
      "text/plain": [
       "         X0        X1        X2        X3        X4        X5        X6  \\\n",
       "0  1.413906 -0.323798 -1.295361  1.341572 -1.256528 -0.649136  0.722056   \n",
       "1 -0.331968  0.177424  0.870572 -0.024689  1.083116  0.124674  1.437415   \n",
       "2  0.751059  0.440441 -0.456740 -0.821677  1.388364  0.799007 -0.078635   \n",
       "3  1.264794  0.074138  0.714124 -1.978385 -0.554169  0.968150  1.096083   \n",
       "4 -0.309942 -1.523519 -0.087799 -1.231231 -0.445806  0.039958 -2.220166   \n",
       "\n",
       "         X7        X8        X9       X10       X11       X12       X13  \\\n",
       "0 -0.396289  2.504860 -0.736986  2.938516  0.417214  0.963820  0.089137   \n",
       "1 -1.648218  1.401452 -1.316832 -0.179760  1.100040 -1.069630 -0.380342   \n",
       "2 -1.818262  0.700646  0.009169 -1.095863 -1.390747 -0.596436  0.273973   \n",
       "3 -0.676375 -0.649699  1.125176  0.852348  0.575840 -0.902550 -1.447900   \n",
       "4  1.183873  1.527586 -0.157180  0.212755  1.243959 -0.647194  0.592592   \n",
       "\n",
       "        X14       X15       X16       X17       X18       X19  \n",
       "0 -2.134278  0.249169  0.264261 -0.375090 -0.375058  0.450061  \n",
       "1 -0.034688 -1.205876  0.480328  0.969791  1.195862 -0.173823  \n",
       "2 -0.521854 -1.297937  0.657046 -1.359455 -1.236116  0.045265  \n",
       "3  0.752670 -0.053308  0.771450  0.197808  2.551308 -0.097992  \n",
       "4  0.127682  0.358640 -0.865317 -1.550470 -0.616804  1.753407  "
      ]
     },
     "execution_count": 3,
     "metadata": {},
     "output_type": "execute_result"
    }
   ],
   "source": [
    "df.head()"
   ]
  },
  {
   "cell_type": "markdown",
   "metadata": {},
   "source": [
    "Now we'll run a test on all pairs within our data looking for instances where our p-value is below our defined cutoff of 5%."
   ]
  },
  {
   "cell_type": "code",
   "execution_count": 4,
   "metadata": {},
   "outputs": [],
   "source": [
    "cutoff = 0.05\n",
    "\n",
    "significant_pairs = []\n",
    "\n",
    "for i in range(N):\n",
    "    for j in range(i+1, N):\n",
    "        Xi = df.iloc[:, i]\n",
    "        Xj = df.iloc[:, j]\n",
    "        \n",
    "        results = stats.spearmanr(Xi, Xj)\n",
    "        \n",
    "        pvalue = results[1]\n",
    "        \n",
    "        if pvalue < cutoff:\n",
    "            significant_pairs.append((i, j))"
   ]
  },
  {
   "cell_type": "markdown",
   "metadata": {},
   "source": [
    "Before we check how many significant results we got, let's run out some math to check how many we'd expect. The formula for the number of pairs given N series is\n",
    "\n",
    "$$\\frac{N(N−1)}{2}$$\n",
    " \n",
    "There are no relationships in our data as it's all randomly generated. If our test is properly calibrated we should expect a false positive rate of 5% given our 5% cutoff. Therefore we should expect the following number of pairs that achieved significance based on pure random chance."
   ]
  },
  {
   "cell_type": "code",
   "execution_count": 5,
   "metadata": {},
   "outputs": [
    {
     "data": {
      "text/plain": [
       "9.5"
      ]
     },
     "execution_count": 5,
     "metadata": {},
     "output_type": "execute_result"
    }
   ],
   "source": [
    "(N * (N-1) / 2) * 0.05\n"
   ]
  },
  {
   "cell_type": "markdown",
   "metadata": {},
   "source": [
    "Now let's compare to how many we actually found."
   ]
  },
  {
   "cell_type": "code",
   "execution_count": 6,
   "metadata": {},
   "outputs": [
    {
     "data": {
      "text/plain": [
       "10"
      ]
     },
     "execution_count": 6,
     "metadata": {},
     "output_type": "execute_result"
    }
   ],
   "source": [
    "len(significant_pairs)"
   ]
  },
  {
   "cell_type": "markdown",
   "metadata": {},
   "source": [
    "<h1>Experiment - Running Many Tests</h1>\n",
    "\n",
    "Use Spearman Rank Correlation (https://docs.scipy.org/doc/scipy-0.14.0/reference/generated/scipy.stats.spearmanr.html) to evaluate the relationship between the pairs of variables. Run it 100 times and report the average number of significant pairs.\n",
    "\n",
    "Spearman Rank Correlation is a variation of correlation that takes into account the ranks of the data. This can help with weird distributions or outliers that would confuse other measures. The test also returns a p-value, which is key here. A higher coefficient means a stronger estimated relationship."
   ]
  },
  {
   "cell_type": "code",
   "execution_count": null,
   "metadata": {},
   "outputs": [],
   "source": []
  },
  {
   "cell_type": "markdown",
   "metadata": {},
   "source": [
    "<h1>Visualizing What's Going On</h1>\n",
    "     \n",
    "Visualize the data as a histogram and draw lines in the cutoffs 0.01 and 0.05 (x axis)."
   ]
  },
  {
   "cell_type": "code",
   "execution_count": null,
   "metadata": {},
   "outputs": [],
   "source": []
  },
  {
   "cell_type": "markdown",
   "metadata": {},
   "source": [
    "<h1>Increase the number of timeseries (N) and run the experiment again</h1>"
   ]
  },
  {
   "cell_type": "code",
   "execution_count": null,
   "metadata": {},
   "outputs": [],
   "source": []
  },
  {
   "cell_type": "markdown",
   "metadata": {},
   "source": [
    "<h1>What can you conclude with this experiment?</h1>"
   ]
  },
  {
   "cell_type": "markdown",
   "metadata": {},
   "source": [
    "<h1>Run the experiment again with Bonferroni Correction </h1>\n",
    "\n",
    "https://en.wikipedia.org/wiki/Bonferroni_correction"
   ]
  },
  {
   "cell_type": "code",
   "execution_count": null,
   "metadata": {},
   "outputs": [],
   "source": []
  },
  {
   "cell_type": "code",
   "execution_count": null,
   "metadata": {},
   "outputs": [],
   "source": []
  }
 ],
 "metadata": {
  "kernelspec": {
   "display_name": "Python 3",
   "language": "python",
   "name": "python3"
  },
  "language_info": {
   "codemirror_mode": {
    "name": "ipython",
    "version": 3
   },
   "file_extension": ".py",
   "mimetype": "text/x-python",
   "name": "python",
   "nbconvert_exporter": "python",
   "pygments_lexer": "ipython3",
   "version": "3.7.4"
  }
 },
 "nbformat": 4,
 "nbformat_minor": 2
}
